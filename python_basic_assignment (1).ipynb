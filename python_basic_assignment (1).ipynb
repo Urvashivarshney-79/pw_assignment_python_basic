{
  "cells": [
    {
      "cell_type": "markdown",
      "metadata": {
        "id": "8t1o1CdmWuIb"
      },
      "source": [
        "**#Python_basic_assignment**"
      ]
    },
    {
      "cell_type": "markdown",
      "metadata": {
        "id": "T_kHCOSYXKQj"
      },
      "source": [
        "#QUESTION_NO_1\n",
        "\"Q. What is Python, and why is it popular?\"\n",
        "\n",
        " ANS- PYTHON IS A PROGRAMMING LANGUAGE, IT'S AN OBJECT-ORIENTED LANGUAGE. AS WELL AS IT'S QUITE EASY FOR BEGINNERS TO LEARN, AND IT'S AN OPEN-SOURCE LANGUAGE WITH A LARGE COMMUNITY FOR DEVELOPERS.\n",
        "\n",
        " IT'S POPULAR BECAUSE IT HAS THIRD-PARTY PACKAGES FOR VARIOUS DOMAINS AND A HUGE LIBRARY FOR AN EASY WORKING ENVIRONMENT.\n",
        " BEGINNERS EASILY GRAB THIS LANGUAGE.\n"
      ]
    },
    {
      "cell_type": "markdown",
      "metadata": {
        "id": "rtGxQ3ZXcFah"
      },
      "source": [
        "#QUESTION_NO_2\n",
        "\"Q. What is an interpreter in Python?\"\n",
        "\n",
        " ANS—AN INTERPRETER CAN HELP TO EXECUTE INSTRUCTIONS OF A PROGRAMMING LANGUAGE LINE BY LINE IN REAL TIME.\n",
        " COMPILER ALLOWS FOR IMMEDIATE EXECUTION AND DEBUGGING.\n",
        " THEY ALLOW  FOR IMMEDIATE CHANGES AND EXECUTION."
      ]
    },
    {
      "cell_type": "markdown",
      "metadata": {
        "id": "JRejR7eGDXS3"
      },
      "source": [
        "#QUESTION_NO_3\n",
        "\"Q. What are pre-defined keywords in Python?\"\n",
        "\n",
        "ANS-KEYWORDS ARE PREDEFINED IN ANY LANGUAGE THAT HAS SPECIAL AND DIFFERENT MEANINGS IN CORRESPONDING LANGUAGES.\n",
        "KEYWORDS ARE CASE SENSITIVE, THEY CANNOT BE REDEFINED IN ANY LANGUAGES.\n",
        "KEYWORDS CANNOT BE DEFINED AS AN IDENTIFIERS."
      ]
    },
    {
      "cell_type": "markdown",
      "metadata": {
        "id": "dxGVj4C5EhEU"
      },
      "source": [
        "#QUESTION_NO_4\n",
        "\"Q. Can keywords be used as variable names?\n",
        "\n",
        " ANS- NO, WE CANNOT DEFINE OR USE KEYWORDS AS VARIABLES BECAUSE KEYWORDS HAS FIX VALUES IN PYTHON OR ANY OTHER LANGUAGE BUT VARIABLES CAN CHANGE OR VARY BY USER."
      ]
    },
    {
      "cell_type": "markdown",
      "metadata": {
        "id": "Gy1EiQNwFyn9"
      },
      "source": [
        "#QUESTION_NO_5\n",
        "\"Q. What is mutability in Python?\"\n",
        "\n",
        " ANS-MUTABILITY MEANS WE CAN CHANGE THE VALUES AFTER CREATION, LIKE LIST , DICTIONARTIES VALUES."
      ]
    },
    {
      "cell_type": "markdown",
      "metadata": {
        "id": "rfKxfab0GjON"
      },
      "source": [
        "#QUESTION_NO_6\n",
        "\"Q. Why are lists mutable, but tuples are immutable?\"\n",
        "\n",
        " ANS- LISTS ARE MUTABLE BUT TUPLES ARE IMMUTABLE BECAUSE WE CAN CHANGE THE VALUES OF LIST AFTER CREATION OF LIST BUT IN TUPLES WWE CAN NOT CHANGE THE VALUES BECAUSE TUPLE DOES NOT ALLOW TO CHANGING ANY VALUES OF IT ."
      ]
    },
    {
      "cell_type": "markdown",
      "metadata": {
        "id": "nmYoL7a8JmB4"
      },
      "source": [
        "#QUESTION_NO-7\n",
        "\n",
        "\"Q. What is the difference between “==” and “is” operators in Python?\"\n",
        "\n",
        "ANS- \"==\" IS AN OPETRATOR FOR CHECKS THE VALUE EQUALITY , THEY RETURN \"TRUE\" IF BOTH VALUES ARE SAME AND \"IS\" IS ALSO AN OPERATOR WHICH IS COMPARE AND CHECKS THE IDENTITY EQUALITY , IT ALSO GIVE THE \"TRUE\" AS OUTPUT IF BOTH IDENTITY ARE EQUAL.\n",
        "\n",
        "EXAMPLE-\n",
        "print(a == b)  # Output: True (because the values are the same)\n",
        "print(a is b)  # Output: False (because they are different objects)"
      ]
    },
    {
      "cell_type": "markdown",
      "metadata": {
        "id": "-ayrF1jGL6-E"
      },
      "source": [
        "#QUESTION_NO_8\n",
        "\"Q. What are logical operators in Python?\"\n",
        " ANS- LOGICAL OPERATORS ARE THAT OPERATOR WHERE THEY CAN MODIFY OR COMBINE THE CONDITIONAL STATEMENT.THEY WORK WITH BOOLEAN VALUES (TRUE , FALSE) , THEY GIVES OUTOUT AS INPUT AND OUTPUT FORM.\n",
        " LOGICAL OPERATORS ARE- (AND, OR, NOT)."
      ]
    },
    {
      "cell_type": "markdown",
      "metadata": {
        "id": "Mxk5tpXaR4jN"
      },
      "source": [
        "#QUESTION_NO_9\n",
        "\"Q.What is type casting in Python?\"\n",
        "\n",
        "ANS- TYPE CASTING IS A CONVERSION,WHERE THE USER CAN CHANGE THE DATA TYPES TO ANOTHER DATA TYPES.\n",
        "PYTHON PROVIDES SOME SPECIFIC PRE DEFINED TYPE CASTING SUCH AS:\n",
        " int(), float(), str(), list(), tuple(), dict(), etc."
      ]
    },
    {
      "cell_type": "markdown",
      "metadata": {
        "id": "TFP3wTULe9NY"
      },
      "source": [
        "#QUESTION_NO_10\n",
        " \"Q.What is the difference between implicit and explicit type casting?\"\n",
        "\n",
        " ANS- Explicit type conversion in programming is done manually by the programmer, while implicit conversion is handled automatically by the compiler."
      ]
    },
    {
      "cell_type": "markdown",
      "metadata": {
        "id": "0mp8yaeYgEGK"
      },
      "source": [
        "#QUESTION_NO_11\n",
        "\"Q. What is the purpose of conditional statements in Python?\"\n",
        "\n",
        " ANS-Conditionals in Python are used to execute code based on the evaluation of one or more conditions.\n",
        "Python supports conditional statements such as if, elif (else if), and else to control the flow of execution.\n",
        "Conditionals can be nested to handle multiple conditions and control different branches of execution based on the outcome of logical expressions."
      ]
    },
    {
      "cell_type": "markdown",
      "metadata": {
        "id": "IzpcV5n0gvbk"
      },
      "source": [
        "#QUESTION_NO_12\n",
        "\"Q. How does the elif statement work?\"\n",
        " ANS- WE CAN USE ELIF STATEMENT WHEN WE HAVE MULTIPLE CONDITION AND STATEMENT , SO WE CAN USE ELIF STATEMENT FOR SIMPLIFY THE CONDITIONS"
      ]
    },
    {
      "cell_type": "markdown",
      "metadata": {
        "id": "mfy2GP7_hv86"
      },
      "source": [
        "#QUESTION_NO_13\n",
        "\"Q.What is the difference between for and while loops?\"\n",
        "\n",
        " ANS-Python offers two primary types of loops: for loops and while loops.\n",
        "“for” loops are used for iterating over a sequence of elements, while “while” loops are used for executing code until a specified condition becomes False"
      ]
    },
    {
      "cell_type": "markdown",
      "metadata": {
        "id": "7XA0wb1liBAV"
      },
      "source": [
        "#QUESTION_NO_14\n",
        "\"Q.Describe a scenario where a while loop is more suitable than a for loop?\"\n",
        "\n",
        "ANS-A while loop is more appropriate than a for loop when the number of iterations is not known beforehand and the loop's termination depends on a dynamic condition."
      ]
    },
    {
      "cell_type": "markdown",
      "metadata": {
        "id": "JW1Pygggi-Dq"
      },
      "source": [
        "#TECHNICAL_QUESTION\n"
      ]
    },
    {
      "cell_type": "markdown",
      "metadata": {
        "id": "tokaFkj_QaUU"
      },
      "source": [
        "#QUESTION_NO_1\n",
        "\"Q.Write a Python program to print \"Hello, World!?"
      ]
    },
    {
      "cell_type": "code",
      "execution_count": null,
      "metadata": {
        "colab": {
          "base_uri": "https://localhost:8080/"
        },
        "id": "5PfDU5i6QwN-",
        "outputId": "09af33e4-e3fd-45da-84b0-751547728e0e"
      },
      "outputs": [
        {
          "name": "stdout",
          "output_type": "stream",
          "text": [
            "HELLO_WORLD\n"
          ]
        }
      ],
      "source": [
        "print(\"HELLO_WORLD\")"
      ]
    },
    {
      "cell_type": "markdown",
      "metadata": {
        "id": "0DC4-4JSQaRN"
      },
      "source": [
        "#QUESTION_NO_2\n",
        "\"Q.Write a Python program that displays your name and age?"
      ]
    },
    {
      "cell_type": "code",
      "execution_count": null,
      "metadata": {
        "colab": {
          "base_uri": "https://localhost:8080/"
        },
        "id": "LHYN2gLYRVrH",
        "outputId": "54d45363-5219-4ffa-86fc-d241ba957f05"
      },
      "outputs": [
        {
          "name": "stdout",
          "output_type": "stream",
          "text": [
            "enter your name55\n",
            "enter your agegg\n",
            "INCORRECT DATA : PLEASE CHECK YOUR AGE VALUE\n"
          ]
        }
      ],
      "source": [
        "#name=\"URVASHI VARSHNEY\"\n",
        "#age=\"25\"\n",
        "#print(f\"{name} , {age}\")\n",
        "\n",
        "#OR\n",
        "try:\n",
        "    name=str(input(\"enter your name\"))\n",
        "    age=int(input(\"enter your age\"))\n",
        "    print(f\"{name} , {age}\")\n",
        "except:\n",
        "  print(\"INCORRECT DATA : PLEASE CHECK YOUR GIVEN VALUE\")"
      ]
    },
    {
      "cell_type": "markdown",
      "metadata": {
        "id": "0v6OIgy_P7u7"
      },
      "source": [
        "#QUESTION_NO_3\n",
        "\"Q.Write code to print all the pre-defined keywords in Python using the keyword library?\""
      ]
    },
    {
      "cell_type": "code",
      "execution_count": null,
      "metadata": {
        "colab": {
          "base_uri": "https://localhost:8080/"
        },
        "id": "maS8layIQGt8",
        "outputId": "96c89021-237b-436c-c9fc-03af410cafa3"
      },
      "outputs": [
        {
          "name": "stdout",
          "output_type": "stream",
          "text": [
            "['False', 'None', 'True', 'and', 'as', 'assert', 'async', 'await', 'break', 'class', 'continue', 'def', 'del', 'elif', 'else', 'except', 'finally', 'for', 'from', 'global', 'if', 'import', 'in', 'is', 'lambda', 'nonlocal', 'not', 'or', 'pass', 'raise', 'return', 'try', 'while', 'with', 'yield']\n"
          ]
        }
      ],
      "source": [
        "import keyword\n",
        "print(keyword.kwlist)"
      ]
    },
    {
      "cell_type": "markdown",
      "metadata": {
        "id": "mU40RCx5ROW_"
      },
      "source": [
        "#QUESTION_NO_4\n",
        "\"Q.Write a program that checks if a given word is a Python keyword?\""
      ]
    },
    {
      "cell_type": "code",
      "execution_count": null,
      "metadata": {
        "colab": {
          "base_uri": "https://localhost:8080/"
        },
        "id": "ZTCFIvxVEf96",
        "outputId": "eed22dc4-27f1-48aa-8856-055b9ba6ce1b"
      },
      "outputs": [
        {
          "name": "stdout",
          "output_type": "stream",
          "text": [
            "enter your keyword:      jj\n",
            "jj is not a keyword\n"
          ]
        }
      ],
      "source": [
        "word=str(input(\"enter your keyword:      \"))\n",
        "if keyword.iskeyword(word):\n",
        "  print(f\"{word} is a keyword\")\n",
        "else:\n",
        "  print(f\"{word} is not a keyword\")\n"
      ]
    },
    {
      "cell_type": "markdown",
      "metadata": {
        "id": "-RWeTQBOTqAY"
      },
      "source": [
        "#QUESTION_NO_5\n",
        "\"Q.Create a list and tuple in Python, and demonstrate how attempting to change an element works differently\n",
        "for each?\""
      ]
    },
    {
      "cell_type": "code",
      "execution_count": null,
      "metadata": {
        "colab": {
          "base_uri": "https://localhost:8080/"
        },
        "id": "_AlujhevToI9",
        "outputId": "9e0136e8-3dcd-4bbe-8010-05f11569a929"
      },
      "outputs": [
        {
          "name": "stdout",
          "output_type": "stream",
          "text": [
            "['ok', '2', '0.25', 'pwskills']\n",
            "['ok', '2', 'mystery', 'pwskills']\n",
            "NOT POSSIBLE: BECAUSE TUPLE IS IMMUTABLE\n",
            "('ok', '2', '0.25', 'pwskills')\n"
          ]
        }
      ],
      "source": [
        "x=[\"ok\" , \"2\" , \"0.25\" , \"pwskills\"]\n",
        "y=(\"ok\" , \"2\" , \"0.25\" , \"pwskills\")\n",
        "print(x)\n",
        "x[2]=\"mystery\"\n",
        "print(x)\n",
        "try:\n",
        "  y[2]=\"mystery\"\n",
        "except:\n",
        "  print(\"NOT POSSIBLE: BECAUSE TUPLE IS IMMUTABLE\")\n",
        "print(y)"
      ]
    },
    {
      "cell_type": "markdown",
      "metadata": {
        "id": "yBIRT6dTZGFF"
      },
      "source": [
        "# QUESTION_NO_6 & 7 (BOTH ARE SAME)\n",
        "\"Q.Write a function to demonstrate the behavior of mutable and immutable arguments?\""
      ]
    },
    {
      "cell_type": "code",
      "execution_count": null,
      "metadata": {
        "id": "tVCQpXYjZAEy"
      },
      "outputs": [],
      "source": [
        "#PLEASE PROVIDE THE SOLUTION AND EXPLAINATION OF THIS QUESTION"
      ]
    },
    {
      "cell_type": "markdown",
      "metadata": {
        "id": "50w0owD0Z66y"
      },
      "source": [
        "#QUESTION_NO_8\n",
        "\"Q.Write a program to demonstrate the use of logical operators?\""
      ]
    },
    {
      "cell_type": "code",
      "execution_count": null,
      "metadata": {
        "colab": {
          "base_uri": "https://localhost:8080/"
        },
        "id": "LTEiQ9CXZ5l-",
        "outputId": "bc866e82-25e9-4d47-a5cb-176e2cd0db6c"
      },
      "outputs": [
        {
          "name": "stdout",
          "output_type": "stream",
          "text": [
            "a and b False\n",
            "a or b True\n",
            "a not b False\n"
          ]
        }
      ],
      "source": [
        "a=\"True\"\n",
        "b=\"False\"\n",
        "print(\"a and b\",   a and b)\n",
        "print(\"a or b\",   a or b)\n",
        "print(\"a not b\",   not b)"
      ]
    },
    {
      "cell_type": "markdown",
      "metadata": {
        "id": "zB5ytvlTdi1V"
      },
      "source": [
        "#QUESTION_NO_9\n",
        "\"Q.Write a Python program to convert user input from string to integer, float, and boolean types?\""
      ]
    },
    {
      "cell_type": "code",
      "execution_count": null,
      "metadata": {
        "colab": {
          "base_uri": "https://localhost:8080/"
        },
        "id": "DULzXTgpddFZ",
        "outputId": "879c3e33-fa00-47a7-c1ce-85064cb19b00"
      },
      "outputs": [
        {
          "output_type": "stream",
          "name": "stdout",
          "text": [
            "Enter a value: 55\n",
            "Integer value: 55\n",
            "Float value: 55.0\n",
            "Boolean value: True\n"
          ]
        }
      ],
      "source": [
        "user_input = input(\"Enter a value: \")\n",
        "\n",
        "# Convert to integer\n",
        "try:\n",
        "    int_value = int(user_input)\n",
        "except:\n",
        "    int_value = \"Not an integer\"\n",
        "\n",
        "# Convert to float\n",
        "try:\n",
        "    float_value = float(user_input)\n",
        "except:\n",
        "    float_value = \"Not a float\"\n",
        "\n",
        "# Convert to boolean\n",
        "bool_value = bool(user_input.strip()) and user_input.strip().lower() not in (\"0\", \"false\")\n",
        "\n",
        "print(\"Integer value:\", int_value)\n",
        "print(\"Float value:\", float_value)\n",
        "print(\"Boolean value:\", bool_value)"
      ]
    },
    {
      "cell_type": "markdown",
      "source": [
        "#QUESTION_NO_10\n",
        "\"Q. Write code to demonstrate type casting with list elements?\""
      ],
      "metadata": {
        "id": "a5a-dBuoxR3D"
      }
    },
    {
      "cell_type": "code",
      "execution_count": null,
      "metadata": {
        "id": "1Lrw1PEDfIBf"
      },
      "outputs": [],
      "source": [
        "# Please help me with this, I have an idea but it's a little difficult to execute. Please provide me some guidance\n",
        "\n"
      ]
    },
    {
      "cell_type": "markdown",
      "source": [
        "#QUESTION_NO_11\n",
        "\"Q.Write a program that checks if a number is positive, negative, or zero?\""
      ],
      "metadata": {
        "id": "EdNBhIxb2aAw"
      }
    },
    {
      "cell_type": "code",
      "source": [
        "a= float(input(\" enter your number\"))\n",
        "if a > 0:\n",
        "  print (\"your given num is positive\")\n",
        "elif a <0:\n",
        "  print (\"your given num is negitive\")\n",
        "else:\n",
        "  print (\"your given num is zero\")"
      ],
      "metadata": {
        "colab": {
          "base_uri": "https://localhost:8080/"
        },
        "id": "kCxLHAEV2jtR",
        "outputId": "9ea56b2b-ac66-4d6f-e72d-55765a2ed49e"
      },
      "execution_count": null,
      "outputs": [
        {
          "output_type": "stream",
          "name": "stdout",
          "text": [
            " enter your number-10\n",
            "your given num is negitive\n"
          ]
        }
      ]
    },
    {
      "cell_type": "markdown",
      "source": [
        "#QUESTION_NO_12\n",
        "\"Q.Write a for loop to print numbers from 1 to 100?\""
      ],
      "metadata": {
        "id": "SVD-2tUi-9cM"
      }
    },
    {
      "cell_type": "code",
      "source": [
        "for i in range(1,101):\n",
        "  print(i , end= ' ')"
      ],
      "metadata": {
        "colab": {
          "base_uri": "https://localhost:8080/"
        },
        "id": "1gvbuEQt_Fmh",
        "outputId": "a90c039e-b357-498d-e687-08ac103a2f7e"
      },
      "execution_count": null,
      "outputs": [
        {
          "output_type": "stream",
          "name": "stdout",
          "text": [
            "1 2 3 4 5 6 7 8 9 10 11 12 13 14 15 16 17 18 19 20 21 22 23 24 25 26 27 28 29 30 31 32 33 34 35 36 37 38 39 40 41 42 43 44 45 46 47 48 49 50 51 52 53 54 55 56 57 58 59 60 61 62 63 64 65 66 67 68 69 70 71 72 73 74 75 76 77 78 79 80 81 82 83 84 85 86 87 88 89 90 91 92 93 94 95 96 97 98 99 100 "
          ]
        }
      ]
    },
    {
      "cell_type": "markdown",
      "source": [
        "#QUESTION_NO_13\n",
        "\"Q.Write a Python program to find the sum of all even numbers between 1 and 500?\""
      ],
      "metadata": {
        "id": "CFUfwgAJCSOg"
      }
    },
    {
      "cell_type": "code",
      "source": [
        "for i in range (1,501):\n",
        "  if i % 2 == 0:\n",
        "    print(i , end= '  ')"
      ],
      "metadata": {
        "colab": {
          "base_uri": "https://localhost:8080/"
        },
        "id": "85vmILhrCeW5",
        "outputId": "7d5effd0-e30d-4883-e083-eefa823cfc22"
      },
      "execution_count": null,
      "outputs": [
        {
          "output_type": "stream",
          "name": "stdout",
          "text": [
            "2  4  6  8  10  12  14  16  18  20  22  24  26  28  30  32  34  36  38  40  42  44  46  48  50  52  54  56  58  60  62  64  66  68  70  72  74  76  78  80  82  84  86  88  90  92  94  96  98  100  102  104  106  108  110  112  114  116  118  120  122  124  126  128  130  132  134  136  138  140  142  144  146  148  150  152  154  156  158  160  162  164  166  168  170  172  174  176  178  180  182  184  186  188  190  192  194  196  198  200  202  204  206  208  210  212  214  216  218  220  222  224  226  228  230  232  234  236  238  240  242  244  246  248  250  252  254  256  258  260  262  264  266  268  270  272  274  276  278  280  282  284  286  288  290  292  294  296  298  300  302  304  306  308  310  312  314  316  318  320  322  324  326  328  330  332  334  336  338  340  342  344  346  348  350  352  354  356  358  360  362  364  366  368  370  372  374  376  378  380  382  384  386  388  390  392  394  396  398  400  402  404  406  408  410  412  414  416  418  420  422  424  426  428  430  432  434  436  438  440  442  444  446  448  450  452  454  456  458  460  462  464  466  468  470  472  474  476  478  480  482  484  486  488  490  492  494  496  498  500  "
          ]
        }
      ]
    },
    {
      "cell_type": "markdown",
      "source": [
        "#QUESTION_NO_14\n",
        "\"Q.Write a program to reverse a string using a while loop?\""
      ],
      "metadata": {
        "id": "0leea1eJDvW9"
      }
    },
    {
      "cell_type": "code",
      "source": [
        "input_string=input(\"enter your string\")\n",
        "reversed_string= \"  \"\n",
        "index = len(input_string)-1\n",
        "while index >= 0:\n",
        "  reversed_string += input_string[index]\n",
        "  index -= 1\n",
        "  print(\"Reversed_string\" , reversed_string)"
      ],
      "metadata": {
        "colab": {
          "base_uri": "https://localhost:8080/"
        },
        "id": "R3awZ8-iD5aP",
        "outputId": "6619f327-dfb4-4a61-cc85-e505eab4d556"
      },
      "execution_count": null,
      "outputs": [
        {
          "output_type": "stream",
          "name": "stdout",
          "text": [
            "enter your stringheelo\n",
            "Reversed_string   o\n",
            "Reversed_string   ol\n",
            "Reversed_string   ole\n",
            "Reversed_string   olee\n",
            "Reversed_string   oleeh\n"
          ]
        }
      ]
    },
    {
      "cell_type": "markdown",
      "source": [
        "#QUESTION_NO_15\n",
        "\"Q. Write a Python program to calculate the factorial of a number provided by the user using a while loop?\""
      ],
      "metadata": {
        "id": "kA-kI1r0JUau"
      }
    },
    {
      "cell_type": "code",
      "source": [
        "fact_num=int(input(\"enter your factorial number:    \"))\n",
        "factorial=1\n",
        "i=1\n",
        "if factorial < 0 :\n",
        "  print(\"given num is negitive num\")\n",
        "else:\n",
        "  while i <=fact_num:\n",
        "    factorial *=i\n",
        "    i+=1\n",
        "    print(f\"Factorial of {fact_num} is: {factorial}\")"
      ],
      "metadata": {
        "colab": {
          "base_uri": "https://localhost:8080/"
        },
        "id": "r088rq8UG1IC",
        "outputId": "37c6564f-519e-4c11-d9bf-08e4099769b5"
      },
      "execution_count": null,
      "outputs": [
        {
          "output_type": "stream",
          "name": "stdout",
          "text": [
            "enter your factorial number:   12\n",
            "Factorial of 12 is: 1\n",
            "Factorial of 12 is: 2\n",
            "Factorial of 12 is: 6\n",
            "Factorial of 12 is: 24\n",
            "Factorial of 12 is: 120\n",
            "Factorial of 12 is: 720\n",
            "Factorial of 12 is: 5040\n",
            "Factorial of 12 is: 40320\n",
            "Factorial of 12 is: 362880\n",
            "Factorial of 12 is: 3628800\n",
            "Factorial of 12 is: 39916800\n",
            "Factorial of 12 is: 479001600\n"
          ]
        }
      ]
    },
    {
      "cell_type": "code",
      "source": [],
      "metadata": {
        "id": "BOuwFm-ZMH1L"
      },
      "execution_count": null,
      "outputs": []
    }
  ],
  "metadata": {
    "colab": {
      "provenance": []
    },
    "kernelspec": {
      "display_name": "Python 3",
      "name": "python3"
    },
    "language_info": {
      "name": "python"
    }
  },
  "nbformat": 4,
  "nbformat_minor": 0
}